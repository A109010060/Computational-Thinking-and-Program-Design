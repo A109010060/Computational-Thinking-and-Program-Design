{
  "nbformat": 4,
  "nbformat_minor": 0,
  "metadata": {
    "colab": {
      "name": "張軒綺-week3-練習作業.ipynb",
      "provenance": [],
      "collapsed_sections": [],
      "authorship_tag": "ABX9TyOJO6jJ97zCl5ARWYYMQQpn",
      "include_colab_link": true
    },
    "kernelspec": {
      "name": "python3",
      "display_name": "Python 3"
    }
  },
  "cells": [
    {
      "cell_type": "markdown",
      "metadata": {
        "id": "view-in-github",
        "colab_type": "text"
      },
      "source": [
        "<a href=\"https://colab.research.google.com/github/A109010060/Computational-Thinking-and-Program-Design/blob/main/%E5%BC%B5%E8%BB%92%E7%B6%BA_week3_%E7%B7%B4%E7%BF%92%E4%BD%9C%E6%A5%AD.ipynb\" target=\"_parent\"><img src=\"https://colab.research.google.com/assets/colab-badge.svg\" alt=\"Open In Colab\"/></a>"
      ]
    },
    {
      "cell_type": "markdown",
      "metadata": {
        "id": "kGbFNgPMN0uD"
      },
      "source": [
        "#隨堂練習"
      ]
    },
    {
      "cell_type": "markdown",
      "metadata": {
        "id": "eDADBJjLct0W"
      },
      "source": [
        "一.認識電腦\r\n",
        "\r\n",
        "組成與工作方式等等\r\n",
        "\r\n",
        "二.程式設計\r\n",
        "\r\n",
        "程式設計就是把你希望電腦做的事情,用程式語言寫出來,這些指令就叫「程式」\r\n",
        "(program)或「程式碼」(code)。\r\n",
        "\r\n",
        "三.運算思維\r\n",
        "\r\n",
        "是一種解決問題的方法\r\n",
        "\r\n",
        "四.用電腦解決問題的四個步驟\r\n",
        "\r\n",
        "1.運算思維 Analyze Problem\r\n",
        "\r\n",
        "2.程式設計 Design\r\n",
        "\r\n",
        "3.程式編碼 Coding\r\n",
        "\r\n",
        "4.測試除錯 Test and Debug\r\n",
        "\r\n",
        "前兩個階段是設計程式,後兩個階段是程式設計\r\n"
      ]
    },
    {
      "cell_type": "markdown",
      "metadata": {
        "id": "xKZ3YSkTP2Mz"
      },
      "source": [
        "#課後練習"
      ]
    },
    {
      "cell_type": "markdown",
      "metadata": {
        "id": "nWP7lnwQdPt_"
      },
      "source": [
        "從一則新聞報導，提出你對新聞系學生為什麼要學「運算思維與程式設計」的見解。（告訴我新聞連結，以及你的觀點即可。）"
      ]
    },
    {
      "cell_type": "markdown",
      "metadata": {
        "id": "5APFoeB6dXRI"
      },
      "source": [
        "https://tyenews.com/2021/02/112300/\r\n"
      ]
    },
    {
      "cell_type": "markdown",
      "metadata": {
        "id": "KOti2nNeMAMR"
      },
      "source": [
        "程式設計是新世代的溝通能力，尤其在現今科技進步的社會，未來將會大量運用各種AI人工智慧。而學習程式設計除了確保自己在未來社會的一席之地，也能避免自身被AI所取代。像新聞系這種需要書寫大量繁雜文字的學系，如果不具備創意思維與控制人工智慧的能力是非常容易被取代的。由學校將這門課設為必修也能清楚認知到，「運算思維與程式設計」市我們都應該掌握的一項技能。"
      ]
    }
  ]
}