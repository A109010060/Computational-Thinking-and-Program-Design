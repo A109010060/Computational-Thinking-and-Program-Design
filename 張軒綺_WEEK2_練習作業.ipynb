{
  "nbformat": 4,
  "nbformat_minor": 0,
  "metadata": {
    "colab": {
      "name": "張軒綺-WEEK2-練習作業.ipynb",
      "provenance": [],
      "authorship_tag": "ABX9TyPDwOm7AVNz8sOAqekImR5W",
      "include_colab_link": true
    },
    "kernelspec": {
      "name": "python3",
      "display_name": "Python 3"
    }
  },
  "cells": [
    {
      "cell_type": "markdown",
      "metadata": {
        "id": "view-in-github",
        "colab_type": "text"
      },
      "source": [
        "<a href=\"https://colab.research.google.com/github/A109010060/Computational-Thinking-and-Program-Design/blob/main/%E5%BC%B5%E8%BB%92%E7%B6%BA_WEEK2_%E7%B7%B4%E7%BF%92%E4%BD%9C%E6%A5%AD.ipynb\" target=\"_parent\"><img src=\"https://colab.research.google.com/assets/colab-badge.svg\" alt=\"Open In Colab\"/></a>"
      ]
    },
    {
      "cell_type": "code",
      "metadata": {
        "colab": {
          "base_uri": "https://localhost:8080/"
        },
        "id": "XO5cohRxTHOz",
        "outputId": "ef716925-4b5b-4739-d1af-b3b7505c8602"
      },
      "source": [
        "print(1+1)"
      ],
      "execution_count": 1,
      "outputs": [
        {
          "output_type": "stream",
          "text": [
            "2\n"
          ],
          "name": "stdout"
        }
      ]
    },
    {
      "cell_type": "code",
      "metadata": {
        "colab": {
          "base_uri": "https://localhost:8080/"
        },
        "id": "9NOZp4HXT2Oo",
        "outputId": "c622f0e3-4061-4b42-e8e6-e90d0e978d79"
      },
      "source": [
        "print(\"Hello World\")"
      ],
      "execution_count": 2,
      "outputs": [
        {
          "output_type": "stream",
          "text": [
            "Hello World\n"
          ],
          "name": "stdout"
        }
      ]
    },
    {
      "cell_type": "markdown",
      "metadata": {
        "id": "WRokCL_FYR0N"
      },
      "source": [
        "Google Colab 操作步驟\r\n",
        "\r\n",
        "Step1:\r\n",
        "\r\n",
        "Step2:\r\n",
        "\r\n",
        "Step3:"
      ]
    },
    {
      "cell_type": "markdown",
      "metadata": {
        "id": "KXHxeFsvZdSs"
      },
      "source": [
        "回家練習"
      ]
    }
  ]
}