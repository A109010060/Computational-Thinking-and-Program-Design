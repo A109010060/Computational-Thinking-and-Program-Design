{
  "nbformat": 4,
  "nbformat_minor": 0,
  "metadata": {
    "colab": {
      "name": "張軒綺_week11_腳本.ipynb",
      "provenance": [],
      "include_colab_link": true
    },
    "kernelspec": {
      "name": "python3",
      "display_name": "Python 3"
    },
    "language_info": {
      "name": "python"
    }
  },
  "cells": [
    {
      "cell_type": "markdown",
      "metadata": {
        "id": "view-in-github",
        "colab_type": "text"
      },
      "source": [
        "<a href=\"https://colab.research.google.com/github/A109010060/Computational-Thinking-and-Program-Design/blob/main/%E5%BC%B5%E8%BB%92%E7%B6%BA_week11_%E8%85%B3%E6%9C%AC.ipynb\" target=\"_parent\"><img src=\"https://colab.research.google.com/assets/colab-badge.svg\" alt=\"Open In Colab\"/></a>"
      ]
    },
    {
      "cell_type": "markdown",
      "metadata": {
        "id": "n6BKTQ-l0Vkr"
      },
      "source": [
        "组长：张轩绮\n",
        "\n",
        "组员：郭思綦\n",
        "\n",
        "  王婉渝\n",
        "\n",
        "  张嘉恩\n"
      ]
    },
    {
      "cell_type": "markdown",
      "metadata": {
        "id": "QP2YhZoP7Zzm"
      },
      "source": [
        "聊天机器人\n",
        "“你好，请问你叫什么名字？”\n",
        "\n",
        "“name，很高兴认识你！”\n",
        "\n",
        "“你今年几岁了？”\n",
        "\n",
        "“好巧，我也是~”\n",
        "\n",
        "“有对象吗？”\n",
        "\n",
        "“哇，这样真不错！”\n",
        "\n",
        "“你喜欢吃什么？”\n",
        "\n",
        "“我喜欢吃意大利面。”\n",
        "\n",
        "“你吃辣吗？”\n",
        "\n",
        "“我只爱吃甜的。”"
      ]
    },
    {
      "cell_type": "code",
      "metadata": {
        "id": "IUKfh5iV7wNj"
      },
      "source": [
        ""
      ],
      "execution_count": null,
      "outputs": []
    }
  ]
}