{
  "nbformat": 4,
  "nbformat_minor": 0,
  "metadata": {
    "kernelspec": {
      "display_name": "Python 3",
      "language": "python",
      "name": "python3"
    },
    "language_info": {
      "codemirror_mode": {
        "name": "ipython",
        "version": 3
      },
      "file_extension": ".py",
      "mimetype": "text/x-python",
      "name": "python",
      "nbconvert_exporter": "python",
      "pygments_lexer": "ipython3",
      "version": "3.8.5"
    },
    "colab": {
      "name": "張軒綺-選擇結構(二)-課堂練習.ipynb",
      "provenance": [],
      "include_colab_link": true
    }
  },
  "cells": [
    {
      "cell_type": "markdown",
      "metadata": {
        "id": "view-in-github",
        "colab_type": "text"
      },
      "source": [
        "<a href=\"https://colab.research.google.com/github/A109010060/Computational-Thinking-and-Program-Design/blob/main/%E5%BC%B5%E8%BB%92%E7%B6%BA_%E9%81%B8%E6%93%87%E7%B5%90%E6%A7%8B(%E4%BA%8C)_%E8%AA%B2%E5%A0%82%E7%B7%B4%E7%BF%92.ipynb\" target=\"_parent\"><img src=\"https://colab.research.google.com/assets/colab-badge.svg\" alt=\"Open In Colab\"/></a>"
      ]
    },
    {
      "cell_type": "markdown",
      "metadata": {
        "id": "dso6vaRvnV6p"
      },
      "source": [
        "### 習題解答"
      ]
    },
    {
      "cell_type": "markdown",
      "metadata": {
        "id": "ijLuo5hgnV6t"
      },
      "source": [
        "**練習2. 時尚偵測師**\n",
        "\n",
        "時尚達人Cher 和 Dionne要參加一個華麗的派對。他們想確保他們的穿搭與眾不同，但有也想保留一點共同的地方，比如兩人都喜歡粉紅色。讓我們寫一些程式，確保兩人的穿搭都個性十足！\n",
        "\n",
        "～首先，請用變數賦值的方式決定兩位的穿著\n",
        "\n",
        "例如下面的穿著建議，請同學自行修改\n",
        "cher_dress_color = \"pink\"\n",
        "cher_shoe_color = \"white\"\n",
        "cher_has_earrings = True\n",
        "dionne_dress_color = \"purple\"\n",
        "dionne_shoe_color = \"pink\"\n",
        "dionne_has_earrings = True\n",
        "\n",
        "\n",
        "～其次，請同學用真假值做時尚偵測，檢查一下兩位時尚達人的穿搭是否符合下面的要點:\n",
        "\n",
        "至少有一人穿紫色 At least one person is wearing purple?\n",
        "兩人穿不同顏色的衣服Cher and Dionne have different dress colors.\n",
        "兩人都戴耳環Cher and Dionne are both earing earrings.\n",
        "至少有一人穿粉紅色 At least one person is wearing pink.\n",
        "沒人穿綠色。 No one is wearing green.\n",
        "兩人穿同顏色的鞋子 Cher and Dionne have the same shoe color.\n",
        "\n",
        "例如\n",
        "print(f'At least one person is wearing pink? {cher_dress_color == \"pink\" or dionne_dress_color == \"pink\"}')\n",
        "\n",
        ".......請同學自行撰寫判斷程式"
      ]
    },
    {
      "cell_type": "markdown",
      "metadata": {
        "id": "E1d0yMqanV6w"
      },
      "source": [
        "print (f'Both girls have different dress colors? {cher_dress_color != \"purple\" and dionne_dress_color != \"pink\"}')\n",
        "\n",
        "print(f\"Both girls are waering earrings? {cher_has_earrings == True and dionne_has_earrings == True}\")\n",
        "\n",
        "print(f'At least one person is wearing pink? {cher_dress_color == \"pink\" or dionne_dress_color == \"pink\"}')\n",
        "\n",
        "print(f'No one is wearing green? {cher_dress_color != \"green\" and dionne_dress_color != \"green\"}')\n",
        "\n",
        "print(f'Both girls have the same shoe colors? {(cher_shoe_color==\"pink\" and dionne_shoe_color == \"pink\") or (cher_shoe_color == \"white\" and dionne_shoe_color == \"white\")}')"
      ]
    },
    {
      "cell_type": "code",
      "metadata": {
        "colab": {
          "base_uri": "https://localhost:8080/"
        },
        "id": "7MWtG6hwxvsr",
        "outputId": "a284883b-dfd7-4b64-bb9f-144c31ee9dd6"
      },
      "source": [
        "cher_dress_color = \"pink\" \n",
        "cher_shoe_color = \"white\" \n",
        "cher_has_earrings = True \n",
        "dionne_dress_color = \"purple\" \n",
        "dionne_shoe_color = \"pink\" \n",
        "dionne_has_earrings = True\n",
        "print (f'Both girls have different dress colors? {cher_dress_color != \"purple\" and dionne_dress_color != \"pink\"}')\n",
        "print(f\"Both girls are waering earrings? {cher_has_earrings == True and dionne_has_earrings == True}\")\n",
        "print(f'At least one person is wearing pink? {cher_dress_color == \"pink\" or dionne_dress_color == \"pink\"}')\n",
        "print(f'No one is wearing green? {cher_dress_color != \"green\" and dionne_dress_color != \"green\"}')\n",
        "print(f'Both girls have the same shoe colors? {(cher_shoe_color==\"pink\" and dionne_shoe_color == \"pink\") or (cher_shoe_color == \"white\" and dionne_shoe_color == \"white\")}')"
      ],
      "execution_count": null,
      "outputs": [
        {
          "output_type": "stream",
          "text": [
            "Both girls have different dress colors? True\n",
            "Both girls are waering earrings? True\n",
            "At least one person is wearing pink? True\n",
            "No one is wearing green? True\n",
            "Both girls have the same shoe colors? False\n"
          ],
          "name": "stdout"
        }
      ]
    },
    {
      "cell_type": "markdown",
      "metadata": {
        "id": "FlcvGCK9nV6y"
      },
      "source": [
        "練習7. Think Like a Computer Scientist\n",
        "如果輸入的num為20, 9, 5,和0，請用你的邏輯直接告訴我，下面兩組程式結果與差異:"
      ]
    },
    {
      "cell_type": "code",
      "metadata": {
        "id": "7gIA-PDXnV6z"
      },
      "source": [
        "num = int(input(\"Enter a number: \"))\n",
        "\n",
        "\n",
        "## 方法（一）：if 敘述\n",
        "\n",
        "if num < 6:\n",
        "    print(\"num is less than 6\")\n",
        "if num < 10:\n",
        "    print(\"num is less than 10\")\n",
        "if num > 3:\n",
        "    print(\"num is greater than 3\")\n",
        "print(\"Finished.\")\n",
        "\n",
        "\n",
        "## 方法（二）：if-elif-else敘述\n",
        "\n",
        "if num < 6:\n",
        "    print(\"number is less than 6.\")\n",
        "elif num < 10:\n",
        "    print(\"number is less than 10.\")\n",
        "elif num > 3:\n",
        "    print(\"number is greater than 3.\")\n",
        "else:\n",
        "    print(\"No relation is found.\")\n",
        "print(\"Finished.\")"
      ],
      "execution_count": null,
      "outputs": []
    },
    {
      "cell_type": "code",
      "metadata": {
        "colab": {
          "base_uri": "https://localhost:8080/"
        },
        "id": "u0bytSfa04F8",
        "outputId": "f668fa86-d95d-4bf4-c999-4874b15be48f"
      },
      "source": [
        "num = int(input(\"Enter a number: \"))\n",
        "if num < 6:\n",
        "    print(\"num is less than 6\")\n",
        "if num < 10:\n",
        "    print(\"num is less than 10\")\n",
        "if num > 3:\n",
        "    print(\"num is greater than 3\")\n",
        "print(\"Finished.\")\n"
      ],
      "execution_count": null,
      "outputs": [
        {
          "output_type": "stream",
          "text": [
            "Enter a number: 9\n",
            "num is less than 10\n",
            "num is greater than 3\n",
            "Finished.\n"
          ],
          "name": "stdout"
        }
      ]
    },
    {
      "cell_type": "code",
      "metadata": {
        "colab": {
          "base_uri": "https://localhost:8080/"
        },
        "id": "cCOoQgeY0--l",
        "outputId": "ecb89b8c-77c8-46df-9a87-dd89a0bceb40"
      },
      "source": [
        "num = int(input(\"Enter a number: \"))\n",
        "if num < 6:\n",
        "    print(\"number is less than 6.\")\n",
        "elif num < 10:\n",
        "    print(\"number is less than 10.\")\n",
        "elif num > 3:\n",
        "    print(\"number is greater than 3.\")\n",
        "else:\n",
        "    print(\"No relation is found.\")\n",
        "print(\"Finished.\")"
      ],
      "execution_count": null,
      "outputs": [
        {
          "output_type": "stream",
          "text": [
            "Enter a number: 9\n",
            "number is less than 10.\n",
            "Finished.\n"
          ],
          "name": "stdout"
        }
      ]
    },
    {
      "cell_type": "markdown",
      "metadata": {
        "id": "_rZHkd1KnV61"
      },
      "source": [
        "## 3. 多向選擇"
      ]
    },
    {
      "cell_type": "markdown",
      "metadata": {
        "id": "UloY-22KnV61"
      },
      "source": [
        "**範例：兩個數比大小**"
      ]
    },
    {
      "cell_type": "markdown",
      "metadata": {
        "id": "mkmBel6MnV62"
      },
      "source": [
        " In [1]: ## Input\n",
        "    ...: num1 = int(input(\"Please input a number: \"))\n",
        "    ...: num2 = int(input(\"Please input another number: \"))\n",
        "    ...: \n",
        "    ...: ## Process＋ Output\n",
        "    ...: if num1 == num2:\n",
        "    ...:     print(num1, \"等於\", num2)\n",
        "    ...: elif num1 < num2:\n",
        "    ...:     print(num1, \"小於\", num2)\n",
        "    ...: else:\n",
        "    ...:     print(num1, \"大於\", num2)\n",
        "\n",
        "Please input a number: 5\n",
        "\n",
        "Please input another number: 8\n",
        "5 小於 8"
      ]
    },
    {
      "cell_type": "code",
      "metadata": {
        "id": "V8J_m5exnV63",
        "colab": {
          "base_uri": "https://localhost:8080/"
        },
        "outputId": "84eac147-5802-41cc-e897-81182dc09407"
      },
      "source": [
        "num1 = int(input(\"Please input a number: \"))\n",
        "num2 = int(input(\"Please input another number: \"))\n",
        "if num1 == num2:\n",
        "    print(num1, \"等於\", num2)\n",
        "elif num1 < num2:\n",
        "    print(num1, \"小於\", num2)\n",
        "else:\n",
        "    print(num1, \"大於\", num2)"
      ],
      "execution_count": null,
      "outputs": [
        {
          "output_type": "stream",
          "text": [
            "Please input a number: 8\n",
            "Please input another number: 9\n",
            "8 小於 9\n"
          ],
          "name": "stdout"
        }
      ]
    },
    {
      "cell_type": "markdown",
      "metadata": {
        "id": "quTG3TBInV63"
      },
      "source": [
        "#### 範例 : 郵資計算\n",
        "\n",
        "某快遞公司以重量為計算郵資的依據，重量與郵資計算如下表，請寫一個程式協助快遞人員計算郵資，快遞人員只要輸入重量，程式自動計算郵資。\n",
        "\n",
        "若重量小於等於5 公斤，則顯示「50」，否則若重量小於等於10 公斤，則顯示「70」，若重量小於等於15 公斤，則顯示「90」，若重量小於等於20 公斤，則顯示「110」，否則顯示「超過20 公斤無法寄送」。"
      ]
    },
    {
      "cell_type": "markdown",
      "metadata": {
        "id": "gGjJT9WjnV64"
      },
      "source": [
        "In [1]: ## 郵資計算\n",
        "    ...: w = float(input('請輸入物品重量？')) # Input\n",
        "    ...: \n",
        "    ...: if w <= 5:                          \n",
        "    ...:     print('所需郵資為50元')\n",
        "    ...: elif w <= 10:\n",
        "    ...:     print('所需郵資為70元')\n",
        "    ...: elif w <= 15:\n",
        "    ...:     print('所需郵資為90元')\n",
        "    ...: elif w <= 20:\n",
        "    ...:     print('所需郵資為110元')\n",
        "    ...: else:\n",
        "    ...:     print('超過20公斤無法寄送')\n",
        "\n",
        "請輸入物品重量？20\n",
        "所需郵資為110元"
      ]
    },
    {
      "cell_type": "code",
      "metadata": {
        "id": "CpcTMtP4nV64",
        "colab": {
          "base_uri": "https://localhost:8080/"
        },
        "outputId": "5ab3dc49-20ec-4cb7-8c02-4a9824377a22"
      },
      "source": [
        "w = float(input('請輸入物品重量？'))\n",
        "if w <= 5:\n",
        "    print('所需郵資為50元')\n",
        "elif w <= 10:\n",
        "    print('所需郵資為70元')\n",
        "elif w <= 15:\n",
        "    print('所需郵資為90元')\n",
        "elif w <= 20:\n",
        "    print('所需郵資為110元')\n",
        "else:\n",
        "    print('超過20公斤無法寄送')\n"
      ],
      "execution_count": null,
      "outputs": [
        {
          "output_type": "stream",
          "text": [
            "請輸入物品重量？20\n",
            "所需郵資為110元\n"
          ],
          "name": "stdout"
        }
      ]
    },
    {
      "cell_type": "markdown",
      "metadata": {
        "id": "b23U3QdXnV65"
      },
      "source": [
        "#### 隨堂練習： BMI 計算\n",
        "\n",
        "**請寫一個程式讓使用者輸入身高與體重，顯示BMI 值與肥胖程度。**\n",
        "BMI 等於體重（KG）除以身高（M）的平方，而BMI 與肥胖分類標準如下：\n",
        "\n",
        "若BMI 值小於18，則顯示「體重過輕」，否則若BMI 值小於24，則顯示「體重正常」，若BMI 值小於27，則顯示「體重過重」，否則顯示「體重肥胖」。"
      ]
    },
    {
      "cell_type": "code",
      "metadata": {
        "id": "47Iz-p7VnV65",
        "colab": {
          "base_uri": "https://localhost:8080/"
        },
        "outputId": "c4b45826-8d04-491c-d018-787382453e6c"
      },
      "source": [
        "w=float(input('請輸入體重(KG)?'))\n",
        "h=float(input('請輸入身高(M)?'))\n",
        "bmi=w/(h*h)\n",
        "print('BMI為',bmi)\n",
        "if bmi<18:\n",
        "    print('體重過輕')\n",
        "elif bmi<24:\n",
        "    print('體重正常')\n",
        "elif bmi<27:\n",
        "    print('體重過重')\n",
        "else:\n",
        "    print('體重肥胖')"
      ],
      "execution_count": null,
      "outputs": [
        {
          "output_type": "stream",
          "text": [
            "請輸入體重(KG)?61\n",
            "請輸入身高(M)?1.63\n",
            "BMI為 22.95908765854944\n",
            "體重正常\n"
          ],
          "name": "stdout"
        }
      ]
    },
    {
      "cell_type": "markdown",
      "metadata": {
        "id": "_DaGNIIMnV65"
      },
      "source": [
        "## 4. 巢狀選擇"
      ]
    },
    {
      "cell_type": "markdown",
      "metadata": {
        "id": "q6mzI3oXnV66"
      },
      "source": [
        "**範例：猜數字遊戲**\n",
        "\n",
        "使用者輸入的數不等於秘密數，則它會看到這個數太低或太高的訊息。"
      ]
    },
    {
      "cell_type": "code",
      "metadata": {
        "id": "yMGUSLIS45aa"
      },
      "source": [
        ""
      ],
      "execution_count": null,
      "outputs": []
    },
    {
      "cell_type": "markdown",
      "metadata": {
        "id": "fK-PPo-vnV66"
      },
      "source": [
        "## Guess the number.\n",
        "## 兩個雙向選擇\n",
        "secret_number = 83\n",
        "n = input(\"Guess a number between 1 and 100: \")\n",
        "n = int(n) # 文字轉數字\n",
        "\n",
        "if n == secret_number:\n",
        "\tprint(\"Guess Right!\")\n",
        "else:     # 猜錯則檢查太高或太低\n",
        "\tif n > secrete_number:\n",
        "\t\tprint(\"Guess lower!\") # 太高要往低猜\n",
        "\telse:\n",
        "\t\tprint(\"Guess higher\") # 太低要往高猜\n",
        "print(\"Thank you for joining the game!\")\n",
        "\n",
        "## 有沒有其他寫法"
      ]
    },
    {
      "cell_type": "code",
      "metadata": {
        "id": "bgrykOA8nV67",
        "colab": {
          "base_uri": "https://localhost:8080/"
        },
        "outputId": "407b27e7-c14c-4c54-b6de-d06bef26e6a4"
      },
      "source": [
        "pin_number = int(input(\"Enter your pin number\"))\n",
        "number=int(input(\"Enter your pin number which saved in computer\"))\n",
        "if pin_number==number:\n",
        "    print(\"Great\")\n",
        "else:\n",
        "    if pin_number>number:\n",
        "        print(\"guess higher\")\n",
        "    else:\n",
        "        print(\"guess lower\")"
      ],
      "execution_count": null,
      "outputs": [
        {
          "output_type": "stream",
          "text": [
            "Enter your pin number77\n",
            "Enter your pin number which saved in computer88\n",
            "guess lower\n"
          ],
          "name": "stdout"
        }
      ]
    },
    {
      "cell_type": "markdown",
      "metadata": {
        "id": "DQj1NSnbnV67"
      },
      "source": [
        "#### 範例: 分數與評語\n",
        "\n",
        "寫一個程式若成績大於等於80 分，評語為「非常好」；否則若成績大於等於60 分，評語為「不錯喔」；否則評語為「要加油」。"
      ]
    },
    {
      "cell_type": "markdown",
      "metadata": {
        "id": "AdhjnTPqnV67"
      },
      "source": [
        " In [1]: ## 方法（一）：單向選擇\n",
        "    ...: score = int(input('請輸入一個成績？'))\n",
        "    ...: if score >= 80:\n",
        "    ...:     print('非常好')\n",
        "    ...: if 80 > score >= 60: # 前面要有80>才行\n",
        "    ...:     print('不錯喔')\n",
        "    ...: if score < 60:    \n",
        "    ...:     print('要加油')\n",
        "\n",
        "請輸入一個成績？88\n",
        "非常好\n",
        "\n",
        " In [2]: ## 方法（二）：多向選擇\n",
        "    ...: score = int(input('請輸入一個成績？'))\n",
        "    ...: if score >= 80:\n",
        "    ...:     print('非常好')\n",
        "    ...: elif score >= 60:   # 前面不用有80>\n",
        "    ...:     print('不錯喔')\n",
        "    ...: else:\n",
        "    ...:     print('要加油')\n",
        "\n",
        "請輸入一個成績？88\n",
        "非常好\n",
        "\n",
        " In [3]: ## 方法（三）：雙向選擇＋巢狀選擇\n",
        "    ...: score = int(input('請輸入一個成績？'))\n",
        "    ...: if score >= 80:\n",
        "    ...:     print('非常好')\n",
        "    ...: else:\n",
        "    ...:     if score >= 60:\n",
        "    ...:         print('不錯喔')\n",
        "    ...:     else:\n",
        "    ...:         print('要加油')\n",
        "\n",
        "請輸入一個成績？88\n",
        "非常好"
      ]
    },
    {
      "cell_type": "code",
      "metadata": {
        "id": "8lH-bu8fnV68",
        "colab": {
          "base_uri": "https://localhost:8080/"
        },
        "outputId": "7c850ccf-4362-4a77-a138-dee7065f5aea"
      },
      "source": [
        "score = int(input('請輸入一個成績？'))\n",
        "if score >= 80:\n",
        "    print('非常好')\n",
        "if 80 > score >= 60: # 前面要有80>才行\n",
        "    print('不錯喔')\n",
        "if score < 60:\n",
        "    print('要加油')\n"
      ],
      "execution_count": null,
      "outputs": [
        {
          "output_type": "stream",
          "text": [
            "請輸入一個成績？98\n",
            "非常好\n"
          ],
          "name": "stdout"
        }
      ]
    },
    {
      "cell_type": "code",
      "metadata": {
        "colab": {
          "base_uri": "https://localhost:8080/"
        },
        "id": "S4_4xDVV8uzb",
        "outputId": "f0964d0c-c0df-49b5-ba8a-3ec253ff3e51"
      },
      "source": [
        "score = int(input('請輸入一個成績？'))\n",
        "if score >= 80:\n",
        "    print('非常好')\n",
        "elif score >= 60: # 前面不用有80>\n",
        "    print('不錯喔')\n",
        "else:\n",
        "    print('要加油')"
      ],
      "execution_count": null,
      "outputs": [
        {
          "output_type": "stream",
          "text": [
            "請輸入一個成績？88\n",
            "非常好\n"
          ],
          "name": "stdout"
        }
      ]
    },
    {
      "cell_type": "code",
      "metadata": {
        "colab": {
          "base_uri": "https://localhost:8080/"
        },
        "id": "NKo2ZJk1878a",
        "outputId": "1c4c2ebf-1303-437d-a18f-d7ed2417d2a9"
      },
      "source": [
        "score = int(input('請輸入一個成績？'))\n",
        "if score >= 80:\n",
        "    print('非常好')\n",
        "else:\n",
        "    if score >= 60:\n",
        "        print('不錯喔')\n",
        "    else:\n",
        "        print('要加油')\n"
      ],
      "execution_count": null,
      "outputs": [
        {
          "output_type": "stream",
          "text": [
            "請輸入一個成績？99\n",
            "非常好\n"
          ],
          "name": "stdout"
        }
      ]
    },
    {
      "cell_type": "code",
      "metadata": {
        "id": "XB7gqs5S87zF"
      },
      "source": [
        ""
      ],
      "execution_count": null,
      "outputs": []
    },
    {
      "cell_type": "markdown",
      "metadata": {
        "id": "HLqy3pgFnV69"
      },
      "source": [
        "####  隨堂練習： 三一律\n",
        "\n",
        "**請輸入一個數，然後判斷這個數是正數、是負數或者是零。**\n",
        "\n",
        "(單向選擇、雙向與巢狀選擇、多向選擇)"
      ]
    },
    {
      "cell_type": "code",
      "metadata": {
        "id": "YH4p1tbNnV69",
        "colab": {
          "base_uri": "https://localhost:8080/"
        },
        "outputId": "9843599a-015d-4dd1-91ff-6e33ba61613c"
      },
      "source": [
        "num=int(input(\"pick a number:\"))\n",
        "if num>0:\n",
        "    print(\"your number is positive\")\n",
        "if num<0:\n",
        "    print(\"your number is negative\")\n",
        "if num==0:\n",
        "    print(\"your number is zero\")\n",
        "print(\"finished\")"
      ],
      "execution_count": null,
      "outputs": [
        {
          "output_type": "stream",
          "text": [
            "pick a number:9\n",
            "your number is positive\n",
            "finished\n"
          ],
          "name": "stdout"
        }
      ]
    },
    {
      "cell_type": "code",
      "metadata": {
        "colab": {
          "base_uri": "https://localhost:8080/"
        },
        "id": "7pamMhP-_rRb",
        "outputId": "8a287a78-f7c9-4f52-c981-4c33144d955a"
      },
      "source": [
        "num=int(input(\"pick a number:\"))\n",
        "if num>0:\n",
        "    print(\"your number is positive\")\n",
        "else:\n",
        "    if num<0:\n",
        "        print(\"your number is negative\")\n",
        "    else:\n",
        "        print(\"your number is zero\")\n",
        "print(\"finished\")"
      ],
      "execution_count": null,
      "outputs": [
        {
          "output_type": "stream",
          "text": [
            "pick a number:9\n",
            "your number is positive\n",
            "finished\n"
          ],
          "name": "stdout"
        }
      ]
    },
    {
      "cell_type": "code",
      "metadata": {
        "colab": {
          "base_uri": "https://localhost:8080/"
        },
        "id": "TTqOuqlV__Ii",
        "outputId": "4cabaa74-561a-45eb-e99e-5bacc431b67a"
      },
      "source": [
        "num=int(input(\"pick a number:\"))\n",
        "if num>0:\n",
        "    print(\"your number is positive\")\n",
        "elif num<0:\n",
        "    print(\"your number is negative\")\n",
        "else:\n",
        "    print(\"your number is zero\")\n",
        "print(\"finished\")"
      ],
      "execution_count": null,
      "outputs": [
        {
          "output_type": "stream",
          "text": [
            "pick a number:9\n",
            "your number is positive\n",
            "finished\n"
          ],
          "name": "stdout"
        }
      ]
    },
    {
      "cell_type": "raw",
      "metadata": {
        "id": "o2DySHldnV6-"
      },
      "source": [
        "####  加分練習 : 三一律延伸。\n",
        "\n",
        "**請輸入兩個數，然後判斷這兩個數是正數、是負數或者是零。**\n",
        "\n",
        "提示：用兩個巢狀多向迴圈"
      ]
    },
    {
      "cell_type": "code",
      "metadata": {
        "id": "ykJjOx8pnV6-"
      },
      "source": [
        ""
      ],
      "execution_count": null,
      "outputs": []
    },
    {
      "cell_type": "markdown",
      "metadata": {
        "id": "3hu3xt-3nV6_"
      },
      "source": [
        "#### 應用練習 1：電影評價\n",
        "\n",
        "movie_title = input('請輸入電影的名稱:')\n",
        "movie_rating = float(input('請輸入電影的評等:'))\n",
        "\n",
        "## 單向選擇 if條件句\n",
        "\n",
        "if movie_rating > 7:\n",
        "    print(f\"{movie_titl}的評分為{movie_rating}分值得去看！\")\n",
        "    \n",
        "\n",
        "## 二合一的單向選擇\n",
        "\n",
        "if movie_rating > 7:\n",
        "    print(f\"{}的評分為 {} 分值得去看！\")\n",
        "if movie_rating <= 7:\n",
        "    print(f\"{}的評分為 {} 分不值得去看！\")\n",
        "    \n",
        "## 雙向選擇\n",
        "if movie_rating > 7:\n",
        "    print(f\"{}的評分為 {} 分值得去看！\")\n",
        "else:\n",
        "    print(f\"{}的評分為 {} 分不值得去看！\")\n",
        "\n",
        "\n",
        "## 多向選擇\n",
        "if movie_rating > 7:\n",
        "     print(f\"{}的評分為 {} 分值得去看！\")\n",
        "elif movie_rating > 6:\n",
        "    print(f\"{}的評分為 {} 分不值得去看！\")\n",
        "else:\n",
        "    print(f\"{}的評分為 {} 分不要看!\")"
      ]
    },
    {
      "cell_type": "code",
      "metadata": {
        "id": "HicgZGwynV7A",
        "colab": {
          "base_uri": "https://localhost:8080/"
        },
        "outputId": "261a4620-1e42-47fb-f7f3-58f39cbcc3a6"
      },
      "source": [
        "movie_title = input('請輸入電影的名稱:')\n",
        "movie_rating = float(input('請輸入電影的評等:'))\n",
        "\n",
        "if movie_rating > 7:\n",
        "    print(f\"{movie_title}的評分為{movie_rating} 分值得去看！\")"
      ],
      "execution_count": null,
      "outputs": [
        {
          "output_type": "stream",
          "text": [
            "請輸入電影的名稱:call me by your name\n",
            "請輸入電影的評等:8.5\n",
            "call me by your name的評分為8.5 分值得去看！\n"
          ],
          "name": "stdout"
        }
      ]
    },
    {
      "cell_type": "code",
      "metadata": {
        "colab": {
          "base_uri": "https://localhost:8080/"
        },
        "id": "4MEEx5u63WFD",
        "outputId": "aae1d1b7-908f-4f4c-88b6-6d3d4ea44f86"
      },
      "source": [
        "movie_title = input('請輸入電影的名稱:')\n",
        "movie_rating = float(input('請輸入電影的評等:'))\n",
        "if movie_rating > 7:\n",
        "    print(f\"{movie_title}的評分為{movie_rating}分值得去看！\")\n",
        "if movie_rating <= 7:\n",
        "    print(f\"{movie_title}的評分為 {movie_rating}分不值得去看，浪費時間！\")"
      ],
      "execution_count": null,
      "outputs": [
        {
          "output_type": "stream",
          "text": [
            "請輸入電影的名稱:call me by your name\n",
            "請輸入電影的評等:8.5\n",
            "call me by your name的評分為8.5分值得去看！\n"
          ],
          "name": "stdout"
        }
      ]
    },
    {
      "cell_type": "code",
      "metadata": {
        "id": "-PTfv7wB30hf",
        "colab": {
          "base_uri": "https://localhost:8080/"
        },
        "outputId": "c3f098fa-e8b4-4ffe-c747-db34284e40db"
      },
      "source": [
        "movie_title = input('請輸入電影的名稱:')\n",
        "movie_rating = float(input('請輸入電影的評等:'))\n",
        "if movie_rating > 7:\n",
        "    print(f\"{movie_title}的評分為{movie_rating}分值得去看！\")\n",
        "else:\n",
        "    print(f\"{movie_title}的評分為{movie_rating}分不值得去看，浪費時間！\")"
      ],
      "execution_count": 13,
      "outputs": [
        {
          "output_type": "stream",
          "text": [
            "請輸入電影的名稱:call me by your name\n",
            "請輸入電影的評等:8.5\n",
            "call me by your name的評分為8.5分值得去看！\n"
          ],
          "name": "stdout"
        }
      ]
    },
    {
      "cell_type": "code",
      "metadata": {
        "id": "dltR8L4a38fg",
        "colab": {
          "base_uri": "https://localhost:8080/"
        },
        "outputId": "22111277-4d53-4252-91a6-fe29ecfd9b18"
      },
      "source": [
        "movie_title = input('請輸入電影的名稱:')\n",
        "movie_rating = float(input('請輸入電影的評等:'))\n",
        "if movie_rating > 7:\n",
        "    print(f\"去電影院看{movie_title}\")\n",
        "elif movie_rating > 6:\n",
        "    print(f\"在家裡看{movie_title}\")\n",
        "else:\n",
        "    print(f\"不要看{movie_title}\")"
      ],
      "execution_count": 7,
      "outputs": [
        {
          "output_type": "stream",
          "text": [
            "請輸入電影的名稱:call me by your name\n",
            "請輸入電影的評等:8.5\n",
            "去電影院看call me by your name\n"
          ],
          "name": "stdout"
        }
      ]
    },
    {
      "cell_type": "markdown",
      "metadata": {
        "id": "YBqHSECPnV7A"
      },
      "source": [
        "#### 應用練習 2：依照身份證字號，排隊領口罩\n",
        "\n",
        "user_int = int(input(\"請輸入一個正整數：\"))\n",
        "\n",
        "## 單向選擇\n",
        "\n",
        "if user_int % 2 == 0:\n",
        "    ans = \"偶數，請星期二四六日領口罩\"\n",
        "if user_int % 2 == 1:\n",
        "    ans = \"奇數，請星期一三五日領口罩\"\n",
        "print(ans)\n",
        "\n",
        "## 雙向選擇\n",
        "\n",
        "if user_int % 2 == 0:\n",
        "    ans = \"偶數，請星期二四六日領口罩\"\n",
        "else:\n",
        "    ans = \"奇數，請星期一三五日領口罩\"\n",
        "print(ans)\n"
      ]
    },
    {
      "cell_type": "markdown",
      "metadata": {
        "id": "MkS-zkKmnV7B"
      },
      "source": [
        "## 雙向選擇(Optional)\n",
        "id_number = input(\"請輸入身分證字號：\")\n",
        "id_last_digit = id_number[-1] # 由右往左數\n",
        "id_last_digit = int(id_last_digit)# 文字轉數字\n",
        "\n",
        "if id_last_digit % 2 == 0:\n",
        "    ans = \"偶數，請星期二四六日領口罩\"\n",
        "else:\n",
        "    ans = \"奇數，請星期一三五日領口罩\"\n",
        "print(ans)\n",
        "\n",
        "## 雙向選擇\n",
        "id_number = input(\"請輸入身分證字號：\")\n",
        "id_second_digit = id_number[1]\n",
        "if id_second_digit == '1':\n",
        "    gender = \"Male\"\n",
        "else:\n",
        "    gender = \"Female\"\n",
        "print(gender)"
      ]
    },
    {
      "cell_type": "code",
      "metadata": {
        "id": "Z1ADT84JnV7C",
        "colab": {
          "base_uri": "https://localhost:8080/"
        },
        "outputId": "6ccc7b55-8412-4f7c-bf2d-0defd0b7faa6"
      },
      "source": [
        "user_int = int(input(\"請輸入身份證的最後一個正整數：\"))\n",
        "if user_int % 2 == 0:\n",
        "    ans = \"偶數，請星期二四六日領口罩\"\n",
        "if user_int % 2 == 1:\n",
        "    ans = \"奇數，請星期一三五日領口罩\"\n",
        "print(ans)"
      ],
      "execution_count": 8,
      "outputs": [
        {
          "output_type": "stream",
          "text": [
            "請輸入身份證的最後一個正整數：9\n",
            "奇數，請星期一三五日領口罩\n"
          ],
          "name": "stdout"
        }
      ]
    },
    {
      "cell_type": "code",
      "metadata": {
        "id": "JvQVV47X5MEV",
        "colab": {
          "base_uri": "https://localhost:8080/"
        },
        "outputId": "b376a57e-a819-4192-d247-2471bc3e0c65"
      },
      "source": [
        "user_int = input(\"請輸入身份證的最後一個正整數：\")\n",
        "user_int = int(user_int)\n",
        "if user_int % 2 == 0:\n",
        "    ans = \"偶數，請星期二四六日領口罩\"\n",
        "else:\n",
        "    ans = \"奇數，請星期一三五日領口罩\"\n",
        "print(ans)"
      ],
      "execution_count": 9,
      "outputs": [
        {
          "output_type": "stream",
          "text": [
            "請輸入身份證的最後一個正整數：9\n",
            "奇數，請星期一三五日領口罩\n"
          ],
          "name": "stdout"
        }
      ]
    },
    {
      "cell_type": "code",
      "metadata": {
        "id": "EEnnocGf5n16",
        "colab": {
          "base_uri": "https://localhost:8080/"
        },
        "outputId": "6339a505-26e6-43a9-feec-457189e55c74"
      },
      "source": [
        "id_number = input(\"請輸入身分證字號：\")\n",
        "id_last_digit = id_number[-1] # 由右往左數\n",
        "id_last_digit = int(id_last_digit) # 文字轉數字\n",
        "if id_last_digit % 2 == 0:\n",
        "    ans = \"偶數，請星期二四六日領口罩\"\n",
        "else:\n",
        "    ans = \"奇數，請星期一三五日領口罩\"\n",
        "print(ans)\n"
      ],
      "execution_count": 11,
      "outputs": [
        {
          "output_type": "stream",
          "text": [
            "請輸入身分證字號：F123456789\n",
            "奇數，請星期一三五日領口罩\n"
          ],
          "name": "stdout"
        }
      ]
    },
    {
      "cell_type": "code",
      "metadata": {
        "id": "CLuhrNr06TY9",
        "colab": {
          "base_uri": "https://localhost:8080/"
        },
        "outputId": "2c763664-5c48-413f-e1c1-8a19ba6cd1cb"
      },
      "source": [
        "## 判斷性別\n",
        "id_number = input(\"請輸入身分證字號：\")\n",
        "id_second_digit = id_number[1] # 由左往右數，從0開始\n",
        "if id_second_digit == '1':\n",
        "    gender = \"Male\"\n",
        "else:\n",
        "    gender = \"Female\"\n",
        "print(gender)"
      ],
      "execution_count": 12,
      "outputs": [
        {
          "output_type": "stream",
          "text": [
            "請輸入身分證字號：F123456789\n",
            "Male\n"
          ],
          "name": "stdout"
        }
      ]
    },
    {
      "cell_type": "markdown",
      "metadata": {
        "id": "oeujVxamnV7D"
      },
      "source": [
        "#### 應用練習 3：冒險遊戲 - 過去還是未來\n",
        "\n",
        "name = \" Your name here\"\n",
        "\n",
        "print(f\"Welcome to {name}'s Choose Your Own Adventure game! As you follow the story, you will be presented with choices that decide your fate. Take care and choose wisely! Let's begin.\")\n",
        "\n",
        "print(f\"You find yourself in a dark room with 2 doors. The first door is red, the second is white!\")\n",
        "\n",
        "door_choice = input(\"Which door do you want to choose? red = red door or white = white door\")\n",
        "\n",
        "if door_choice == \"red\":\n",
        "\tprint(\"Great, you walk through the red door and are now in the future! You meet a scientist who gives you a mission of helping him save the world!\")\n",
        "\t\n",
        "\tchoose_one = input(\"What do you want to do? \n",
        "\t1 = Accept or 2 = Decline\")\n",
        "\tif choice_one == \"1\":\n",
        "\t\tprint(\"\"\"＿＿＿＿＿SUCCESS＿＿＿＿＿\n",
        "\t\tYou will helped the scientist save the world!\n",
        "\t\tIn gratitude, the scientist builds a time machine\n",
        "        and sends you home! \"\"\")\n",
        "\telse:\n",
        "\t\tprint(\"\"\"______GAME OVER______\n",
        "\t\tToo bad! You declined the sientist's offer and\n",
        "    \tnow you are stuck in the future!\"\"\")\n",
        "\n",
        "else:\n",
        "\tprint(\"Great, you walked through the white door and now you are in the past! You meet a princess who asks you to go on a request.\")\n",
        "\t\n",
        "\tquest_choice = input(\"Do you want to accept her offer and go on the quest, or do you want to stay where you are?  1 = Accept or 2 = Decline\")\n",
        "\t\n",
        "\tif quest_choice == \"1\":\n",
        "\t\tprint(\"\"\"＿＿＿＿＿SUCCESS＿＿＿＿＿\n",
        "        Princess thanks you for accepting her offer. You begin the quest.\"\"\")\n",
        "\telse:\n",
        "\t\tprint(\"\"\"______GAME OVER _____\n",
        "\t\tWell, I guess your story ends here!\"\"\")"
      ]
    },
    {
      "cell_type": "code",
      "metadata": {
        "id": "Fb6-VOE_nV7F"
      },
      "source": [
        ""
      ],
      "execution_count": null,
      "outputs": []
    }
  ]
}