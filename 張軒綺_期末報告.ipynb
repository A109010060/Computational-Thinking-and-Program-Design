{
  "nbformat": 4,
  "nbformat_minor": 0,
  "metadata": {
    "colab": {
      "name": "張軒綺-期末報告.ipynb",
      "provenance": [],
      "collapsed_sections": [],
      "include_colab_link": true
    },
    "kernelspec": {
      "name": "python3",
      "display_name": "Python 3"
    },
    "language_info": {
      "name": "python"
    }
  },
  "cells": [
    {
      "cell_type": "markdown",
      "metadata": {
        "id": "view-in-github",
        "colab_type": "text"
      },
      "source": [
        "<a href=\"https://colab.research.google.com/github/A109010060/Computational-Thinking-and-Program-Design/blob/main/%E5%BC%B5%E8%BB%92%E7%B6%BA_%E6%9C%9F%E6%9C%AB%E5%A0%B1%E5%91%8A.ipynb\" target=\"_parent\"><img src=\"https://colab.research.google.com/assets/colab-badge.svg\" alt=\"Open In Colab\"/></a>"
      ]
    },
    {
      "cell_type": "markdown",
      "metadata": {
        "id": "n6BKTQ-l0Vkr"
      },
      "source": [
        "组长：张轩绮\n",
        "\n",
        "组员：郭思綦\n",
        "\n",
        "  王婉渝\n",
        "\n",
        "  张嘉恩\n"
      ]
    },
    {
      "cell_type": "code",
      "metadata": {
        "id": "IUKfh5iV7wNj",
        "colab": {
          "base_uri": "https://localhost:8080/"
        },
        "outputId": "9f182ce5-13d2-46a3-aeda-629e9681aaa4"
      },
      "source": [
        "print(\"哈囉，大家好。我叫eva，是一個聊天機器人。\")\n",
        "print(f\"我喜歡到處吃美食!也喜歡玩各種遊戲~\")\n",
        "hello = \"很高興認識你們，請大家多多指教。\"\n",
        "print(hello)"
      ],
      "execution_count": 1,
      "outputs": [
        {
          "output_type": "stream",
          "text": [
            "哈囉，大家好。我叫eva，是一個聊天機器人。\n",
            "我喜歡到處吃美食!也喜歡玩各種遊戲~\n",
            "很高興認識你們，請大家多多指教。\n"
          ],
          "name": "stdout"
        }
      ]
    },
    {
      "cell_type": "code",
      "metadata": {
        "colab": {
          "base_uri": "https://localhost:8080/"
        },
        "id": "irUlrglVPJBr",
        "outputId": "db9d674b-315e-42e7-bdd4-8d9d882e2a4a"
      },
      "source": [
        "name = input(\"嗨！妳好，你叫什麼名字啊?：\")\n",
        "print(f\"{name}, 很高興認識你，我們一定可以成為很好的朋友!\")"
      ],
      "execution_count": 2,
      "outputs": [
        {
          "output_type": "stream",
          "text": [
            "嗨！妳好，你叫什麼名字啊?：emma\n",
            "emma, 很高興認識你，我們一定可以成為很好的朋友!\n"
          ],
          "name": "stdout"
        }
      ]
    },
    {
      "cell_type": "code",
      "metadata": {
        "colab": {
          "base_uri": "https://localhost:8080/"
        },
        "id": "8ibrCobMP6Xl",
        "outputId": "1fd2d57e-078a-40aa-c69c-5690d0138392"
      },
      "source": [
        "age=input(\"你今年幾歲了啊?\")\n",
        "print(f\"{age}了啊!跟我一樣耶!太巧了\")"
      ],
      "execution_count": 3,
      "outputs": [
        {
          "output_type": "stream",
          "text": [
            "你今年幾歲了啊?19\n",
            "19了啊!跟我一樣耶!太巧了\n"
          ],
          "name": "stdout"
        }
      ]
    },
    {
      "cell_type": "code",
      "metadata": {
        "colab": {
          "base_uri": "https://localhost:8080/"
        },
        "id": "iBHAcSBWiQvC",
        "outputId": "b6568657-7ff1-4784-9c2a-ccc468d23360"
      },
      "source": [
        "answer=int(input(\"你有兄弟姐妹嗎？有[1]沒有[2]\"))\n",
        "if answer==2:\n",
        "    print(\"那麼巧，我也沒有。\")\n",
        "else:\n",
        "    print(\"這麼好，我也想要欸\")\n",
        "    answer=int(input(\"你有幾個兄弟姐妹呀？\"))\n",
        "    if answer<3:\n",
        "        print(\"那剛剛好喔～\")\n",
        "    else:\n",
        "        print(\"會不會有點多呢。。。哈哈\")"
      ],
      "execution_count": 4,
      "outputs": [
        {
          "output_type": "stream",
          "text": [
            "你有兄弟姐妹嗎？有[1]沒有[2]1\n",
            "這麼好，我也想要欸\n",
            "你有幾個兄弟姐妹呀？2\n",
            "那剛剛好喔～\n"
          ],
          "name": "stdout"
        }
      ]
    },
    {
      "cell_type": "code",
      "metadata": {
        "id": "hunHA_oCinAw",
        "colab": {
          "base_uri": "https://localhost:8080/"
        },
        "outputId": "675b22e0-1f50-451c-9d94-73a193dcddd8"
      },
      "source": [
        "answer=int(input(\"欸，你寫完作業了嗎？寫完了[1]沒寫完[2]\"))\n",
        "if answer==1:\n",
        "    print(\"哇靠，你也太強了吧！\")\n",
        "else:\n",
        "    print(\"沒事，作業確實很難，你一定可以寫完的，加油！\")\n"
      ],
      "execution_count": 5,
      "outputs": [
        {
          "output_type": "stream",
          "text": [
            "欸，你寫完作業了嗎？寫完了[1]沒寫完[2]1\n",
            "哇靠，你也太強了吧！\n"
          ],
          "name": "stdout"
        }
      ]
    },
    {
      "cell_type": "code",
      "metadata": {
        "colab": {
          "base_uri": "https://localhost:8080/"
        },
        "id": "KG7GZ9rAQbQv",
        "outputId": "bc475d71-bf81-4489-997f-138398eaa9f2"
      },
      "source": [
        "print(\"我們來玩猜數字吧\")\n",
        "num=int(input(\"1-10猜一個數字吧\"))\n",
        "if num>5:\n",
        "    print(\"猜錯啦!我的數字是5!比你猜的小一點呢!\")\n",
        "elif num<5:\n",
        "    print(\"猜錯啦!我的數字是5!比你猜的大一點呢!\")\n",
        "else:\n",
        "    print(\"猜對啦!答案就是數字5!\")"
      ],
      "execution_count": 6,
      "outputs": [
        {
          "output_type": "stream",
          "text": [
            "我們來玩猜數字吧\n",
            "1-10猜一個數字吧3\n",
            "猜錯啦!我的數字是5!比你猜的大一點呢!\n"
          ],
          "name": "stdout"
        }
      ]
    },
    {
      "cell_type": "code",
      "metadata": {
        "colab": {
          "base_uri": "https://localhost:8080/"
        },
        "id": "ELbS79WQUL3G",
        "outputId": "2fe44958-28a8-47aa-de25-946946239253"
      },
      "source": [
        "print(\"明天的午餐我打算吃義大利麵!\")\n",
        "food=input(\"你要吃點什麼呢?\")\n",
        "print(f\"{food}!哇!聽起來真不錯!\")\n",
        "print(\"不過還是不要太常吃喔~讓我來幫你測一下BMI吧\")\n",
        "w=float(input('請輸入體重(KG)?'))\n",
        "h=float(input('請輸入身高(M)?'))\n",
        "bmi=w/(h*h)\n",
        "print('BMI為',bmi)\n",
        "if bmi<18:\n",
        "    print('體重太輕啦~要多吃點東西囉')\n",
        "elif bmi<24:\n",
        "    print('體重很正常!要繼續保持呀')\n",
        "elif bmi<27:\n",
        "    print('體重過重囉~要注意均衡飲食囉')\n",
        "else:\n",
        "    print('體重肥胖!要多控制飲食方面了!')"
      ],
      "execution_count": 8,
      "outputs": [
        {
          "output_type": "stream",
          "text": [
            "明天的午餐我打算吃義大利麵!\n",
            "你要吃點什麼呢?披薩\n",
            "披薩!哇!聽起來真不錯!\n",
            "不過還是不要太常吃喔~讓我來幫你測一下BMI吧\n",
            "請輸入體重(KG)?50\n",
            "請輸入身高(M)?1.7\n",
            "BMI為 17.301038062283737\n",
            "體重太輕啦~要多吃點東西囉\n"
          ],
          "name": "stdout"
        }
      ]
    },
    {
      "cell_type": "code",
      "metadata": {
        "colab": {
          "base_uri": "https://localhost:8080/"
        },
        "id": "WuS7PZXqVp9N",
        "outputId": "95312633-1c14-4151-a7bf-0795b58586b2"
      },
      "source": [
        "print(\"我們再來玩個遊戲吧\")\n",
        "your = int(input(\"請出拳 [0] 剪刀 [1] 石頭 [2] 布\"))\n",
        "print(\"你出的是\", your)\n",
        "import random\n",
        "my= random.randint(0, 2)\n",
        "print(\"我出的是\", my)\n",
        "\n",
        "if your == 0:\n",
        "    if my == 0:\n",
        "        print('平手!我們真有默契')\n",
        "    elif my == 1:\n",
        "        print('我贏了!真不錯耶')\n",
        "    else:\n",
        "        print('你贏了!太棒啦!')\n",
        "elif your == 1:\n",
        "    if my == 0:\n",
        "        print('你贏了!太棒啦!')\n",
        "    elif my == 1:\n",
        "        print('平手!我們真有默契')\n",
        "    else:\n",
        "        print('我贏了!真不錯耶')\n",
        "else:\n",
        "    if my == 1:\n",
        "        print('我贏了!真不錯耶')\n",
        "    elif my == 2:\n",
        "        print('你贏了!太棒啦!')\n",
        "    else:\n",
        "        print('平手!我們真有默契')\n",
        "print(\"跟你玩的真開心!\")"
      ],
      "execution_count": 9,
      "outputs": [
        {
          "output_type": "stream",
          "text": [
            "我們再來玩個遊戲吧\n",
            "請出拳 [0] 剪刀 [1] 石頭 [2] 布1\n",
            "你出的是 1\n",
            "我出的是 2\n",
            "我贏了!真不錯耶\n",
            "跟你玩的真開心!\n"
          ],
          "name": "stdout"
        }
      ]
    },
    {
      "cell_type": "code",
      "metadata": {
        "id": "NUjk33LycFUb",
        "colab": {
          "base_uri": "https://localhost:8080/"
        },
        "outputId": "4fff2a05-dcd4-477e-a81c-90cd008e87dc"
      },
      "source": [
        "answer=int(input(\"我還有一個小遊戲!你想試試看嘛!想[1]不想[2]\"))\n",
        "if answer==1:\n",
        "    print(\"準備好了嗎？要開始囉！\")\n",
        "    print('遊戲開始囉')\n",
        "    print(\"你來到了一個黑暗森林的路口\")\n",
        "    road_choice=int(input(\"這個路口有三條小路，要走哪條呢？左[11] or 中[22] or 右[33]:\"))\n",
        "    if road_choice ==11:\n",
        "        print(\"你往左邊的小路走去，沒想到掉進沼澤，被淹沒了\")\n",
        "        print(\"遊戲結束\")\n",
        "    elif road_choice==22:\n",
        "       door_choice=int(input(\"此時你面前有一顆魔法蘋果樹，要不要吃蘋果？要[111] or 不要[222]\"))\n",
        "       if door_choice==111:\n",
        "            print(\"你吃了那顆魔法蘋果\")\n",
        "            print(\"這顆蘋果有毒，所以你死了\")\n",
        "            print(\"魔法之旅結束\")\n",
        "       else:\n",
        "            print(\"你沒吃那顆魔法蘋果\")\n",
        "            print(\"繼續往前走，遇到一個守護寶箱的小精靈，你給了他剛剛的蘋果\")\n",
        "            print(\"獲得了他守護的寶箱，你贏了，遊戲結束！\")\n",
        "    elif road_choice==33:\n",
        "       choice=input(\"你遇到一個被陷阱困住的野獸，你要不要救他？要[3] or 不要[4]\")\n",
        "       if choice==[3]:\n",
        "          print(\"好心沒好報，你被野獸吃掉了\")\n",
        "          print(\"魔法之旅結束\")\n",
        "    else:\n",
        "        print('再往前走，你踩中獵人設的陷阱')\n",
        "        print('魔法之旅結束')\n",
        "else:\n",
        "    print(\"好吧！下次一定要一起玩喔！\")"
      ],
      "execution_count": 10,
      "outputs": [
        {
          "output_type": "stream",
          "text": [
            "我還有一個小遊戲!你想試試看嘛!想[1]不想[2]1\n",
            "準備好了嗎？要開始囉！\n",
            "遊戲開始囉\n",
            "你來到了一個黑暗森林的路口\n",
            "這個路口有三條小路，要走哪條呢？左[11] or 中[22] or 右[33]:22\n",
            "此時你面前有一顆魔法蘋果樹，要不要吃蘋果？要[111] or 不要[222]111\n",
            "你吃了那顆魔法蘋果\n",
            "這顆蘋果有毒，所以你死了\n",
            "魔法之旅結束\n"
          ],
          "name": "stdout"
        }
      ]
    },
    {
      "cell_type": "code",
      "metadata": {
        "id": "E_Zf-cDaDDvN",
        "colab": {
          "base_uri": "https://localhost:8080/"
        },
        "outputId": "735060cf-eb6a-47d4-ada3-04770791e33a"
      },
      "source": [
        "answer=int(input('當你回到家，發現屋裡一團亂，是否要進去查看？要[1]不要[2]'))\n",
        "if answer==2:\n",
        "  print('錯失抓犯人第一時間，你的財務全部被偷，也抓不到兇手')\n",
        "  print('遊戲結束')\n",
        "else:\n",
        "  a=int(input('要先搜查哪個區域？客廳[11] or 廚房[22] or 臥室[33]'))\n",
        "  if a==33:\n",
        "    print('無寸鐵的你，被房間裡的犯人殺死')\n",
        "    print('遊戲結束')\n",
        "  elif a==22:\n",
        "    print('廚房沒有任何異樣，你拿了一把刀子在身上')\n",
        "    b=int(input('你聽到房間有動靜，是否過去查看？要[3]不要[4]'))\n",
        "    if b==3:\n",
        "      print('你成功找到犯人，拯救自己差點被偷走的財物')\n",
        "    else:\n",
        "      print('你回到客廳，犯人突然從背後捅一刀，你死了')\n",
        "      print('遊戲結束')\n",
        "  else:\n",
        "    print('你發現犯人遺留在客廳的作案工具，撿起他並且去報警')\n",
        "    print('雖然成功找回犯人，但財務早已消失')\n",
        "    print('遊戲結束')"
      ],
      "execution_count": 11,
      "outputs": [
        {
          "output_type": "stream",
          "text": [
            "當你回到家，發現屋裡一團亂，是否要進去查看？要[1]不要[2]1\n",
            "要先搜查哪個區域？客廳[11] or 廚房[22] or 臥室[33]22\n",
            "廚房沒有任何異樣，你拿了一把刀子在身上\n",
            "你聽到房間有動靜，是否過去查看？要[3]不要[4]3\n",
            "你成功找到犯人，拯救自己差點被偷走的財物\n"
          ],
          "name": "stdout"
        }
      ]
    },
    {
      "cell_type": "code",
      "metadata": {
        "id": "l8xXlc8tZ954",
        "colab": {
          "base_uri": "https://localhost:8080/"
        },
        "outputId": "21425ef3-b8b6-4ee6-8605-8caf94aa24cf"
      },
      "source": [
        "print(\"祝你周末愉快!\")\n",
        "print(\"我喜歡跟你聊天，現在有點累了，下次再聊!\")\n",
        "print(\"再見，\", name, \"。我喜歡跟你聊天!\")"
      ],
      "execution_count": 12,
      "outputs": [
        {
          "output_type": "stream",
          "text": [
            "祝你周末愉快!\n",
            "我喜歡跟你聊天，現在有點累了，下次再聊!\n",
            "再見， emma 。我喜歡跟你聊天!\n"
          ],
          "name": "stdout"
        }
      ]
    }
  ]
}