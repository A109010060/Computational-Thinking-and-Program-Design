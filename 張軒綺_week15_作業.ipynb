{
  "nbformat": 4,
  "nbformat_minor": 0,
  "metadata": {
    "colab": {
      "name": "張軒綺-week15-作業.ipynb",
      "provenance": [],
      "authorship_tag": "ABX9TyP3QKbe59n67kvPYKNtvTY2",
      "include_colab_link": true
    },
    "kernelspec": {
      "name": "python3",
      "display_name": "Python 3"
    },
    "language_info": {
      "name": "python"
    }
  },
  "cells": [
    {
      "cell_type": "markdown",
      "metadata": {
        "id": "view-in-github",
        "colab_type": "text"
      },
      "source": [
        "<a href=\"https://colab.research.google.com/github/A109010060/Computational-Thinking-and-Program-Design/blob/main/%E5%BC%B5%E8%BB%92%E7%B6%BA_week15_%E4%BD%9C%E6%A5%AD.ipynb\" target=\"_parent\"><img src=\"https://colab.research.google.com/assets/colab-badge.svg\" alt=\"Open In Colab\"/></a>"
      ]
    },
    {
      "cell_type": "code",
      "metadata": {
        "colab": {
          "base_uri": "https://localhost:8080/"
        },
        "id": "L7jMVWbdvdSI",
        "outputId": "3f2a1a37-3a92-480b-d531-5f16d4a81013"
      },
      "source": [
        "name = \"張軒綺\"\n",
        "\n",
        "print(f\"Welcome to {name}'s Choose Your Own Adventure game! As you follow the story, you will be presented with choices that decideyour fate.Take care and choose wisely! Let's begin.\")\n",
        "\n",
        "print(f\"You find yourself in a dark room with 2 doors. The first door is red, the second is white!\")\n",
        "\n",
        "door_choice = input(\"Which door do you want to choose? red = red door or white = white door\")\n",
        "if door_choice == \"red\":\n",
        "    print(\"Great, you walk through the red door and are now in the future!You meet a scientist who gives you a mission of helping him save the world!\")\n",
        "    choose_one = input(\"What do you want to do?1 = Accept or 2 = Decline\")\n",
        "    if choose_one == \"1\":\n",
        "        print(\"\"\"＿＿＿＿＿SUCCESS＿＿＿＿＿You will helped the scientist save the world!In gratitude, the scientist builds a time machine and sends you home! \"\"\")\n",
        "    else:\n",
        "        print(\"\"\"______GAME OVER______Too bad! You declined the sientist's offer and now you are stuck in the future!\"\"\")\n",
        "else:\n",
        "    print(\"Great, you walked through the white door and now you are in the past! \\You meet a princess who asks you to go on a request.\")\n",
        "    quest_choice = input(\"Do you want to accept her offer and go on the quest, \\or do you want to stay where you are? 1 = Accept or 2 = Decline\")\n",
        "    if quest_choice == \"1\":\n",
        "        print(\"\"\"＿＿＿＿＿SUCCESS＿＿＿＿＿Princess thanks you for accepting her offer. You begin the quest.\"\"\")\n",
        "    else:\n",
        "        print(\"\"\"______GAME OVER _____Well, I guess your story ends here!\"\"\")\n"
      ],
      "execution_count": null,
      "outputs": [
        {
          "output_type": "stream",
          "text": [
            "Welcome to 張軒綺's Choose Your Own Adventure game! As you follow the story, you will be presented with choices that decideyour fate.Take care and choose wisely! Let's begin.\n",
            "You find yourself in a dark room with 2 doors. The first door is red, the second is white!\n",
            "Which door do you want to choose? red = red door or white = white doorred\n",
            "Great, you walk through the red door and are now in the future!You meet a scientist who gives you a mission of helping him save the world!\n",
            "What do you want to do?1 = Accept or 2 = Decline1\n",
            "＿＿＿＿＿SUCCESS＿＿＿＿＿You will helped the scientist save the world!In gratitude, the scientist builds a time machine and sends you home! \n"
          ],
          "name": "stdout"
        }
      ]
    },
    {
      "cell_type": "markdown",
      "metadata": {
        "id": "25Qc0Akgzkuv"
      },
      "source": [
        "文字冒險旅程"
      ]
    },
    {
      "cell_type": "code",
      "metadata": {
        "colab": {
          "base_uri": "https://localhost:8080/"
        },
        "id": "8vKa2yB_zm7S",
        "outputId": "e4042a08-ca39-4211-8a3d-3bf389f98aa0"
      },
      "source": [
        "print(\"You are on a deserted island in a 2D world.\")\n",
        "print(\"Try to survive until rescue arrives!\")\n",
        "print(\"Available commands are in CAPITAL letters.\")\n",
        "print(\"Any other command exits the program\")\n",
        "print(\"First LOOK around...\")\n",
        "do = input(\":: \")\n",
        "if do == \"LOOK\":\n",
        "    print(\"You are stuck in a sand ditch.\")\n",
        "    print(\"Crawl out LEFT or RIGHT.\")\n",
        "    do = input(\":: \")\n",
        "    if do == \"LEFT\":\n",
        "        print(\"You see a STARFISH and a CRAB on the sand.\")\n",
        "        print(\"And you're hungry! Which do you eat?\")\n",
        "    do = input(\":: \") \n",
        "    if do == \"STARFISH\":\n",
        "        print(\"Oh no! You immediately don't feel well.\")\n",
        "        print(\"You do not survive :(\")\n",
        "    elif do == \"CRAB\":\n",
        "        print(\"Raw crab should be fine, right? YES or NO.\")    \n",
        "        do = input(\":: \")\n",
        "        if do == \"YES\":\n",
        "            print(\"Ok, You eat it raw. Fingers crossed.\")\n",
        "            print(\"Food in your belly helps you see a TREE.\")\n",
        "            do = input(\":: \")\n",
        "            if do == \"TREE\":\n",
        "                print(\"It's a coconut tree! And you're thirsty!\")\n",
        "                print(\"Do you drink the coconut water? YES or NO.\")\n",
        "                do = input(\":: \"\n",
        "                if do == \"YES\":\n",
        "                    print(\"Oh boy. Coconut water and rawcrab don't mix.\")\n",
        "                    print(\"You do not survive :(\")\n",
        "                elif do == \"NO\":\n",
        "                    print(\"Good choice.\")\n",
        "                    print(\"Look! It's a rescue plane! You made it!\\o/\")\n",
        "        elif do == \"NO\":\n",
        "            print(\"Well, there's nothing else left to eat.\")\n",
        "            print(\"You do not survive :(\")\n",
        "    elif do == \"RIGHT\": \n",
        "        print(\"No can do. That side is very slippery.\")\n",
        "        print(\"You fall very far into some weird cavern.\")\n",
        "        print(\"You do not survive :(\")\n",
        "else: \n",
        "    print(\"You can only do actions shown in capital letters.\")\n",
        "    print(\"Try again!\")"
      ],
      "execution_count": null,
      "outputs": [
        {
          "output_type": "stream",
          "text": [
            "You are on a deserted island in a 2D world.\n",
            "Try to survive until rescue arrives!\n",
            "Available commands are in CAPITAL letters.\n",
            "Any other command exits the program\n",
            "First LOOK around...\n",
            ":: LOOK\n",
            "You are stuck in a sand ditch.\n",
            "Crawl out LEFT or RIGHT.\n",
            ":: LEFT\n",
            "You see a STARFISH and a CRAB on the sand.\n",
            "And you're hungry! Which do you eat?\n",
            ":: CRAB\n",
            "Raw crab should be fine, right? YES or NO.\n",
            ":: YES\n",
            "Ok, You eat it raw. Fingers crossed.\n",
            "Food in your belly helps you see a TREE.\n",
            ":: TREE\n",
            "It's a coconut tree! And you're thirsty!\n",
            "Do you drink the coconut water? YES or NO.\n",
            ":: YES\n",
            "Oh boy. Coconut water and rawcrab don't mix.\n",
            "You do not survive :(\n"
          ],
          "name": "stdout"
        }
      ]
    },
    {
      "cell_type": "markdown",
      "metadata": {
        "id": "RMeTurjl7OAq"
      },
      "source": [
        "冒險故事"
      ]
    },
    {
      "cell_type": "code",
      "metadata": {
        "colab": {
          "base_uri": "https://localhost:8080/"
        },
        "id": "VoPQRASx7UtQ",
        "outputId": "0e6207b7-ce78-4fb8-fc46-bd8b95b14d65"
      },
      "source": [
        "print(\"歡迎來到聖塔克魯茲山上冒險遊戲！\")\n",
        "print(\"********************************************\")\n",
        "print(\"你現在在加州聖塔克魯茲。\")\n",
        "print(\"你在傍晚一個人爬山。\")\n",
        "print(\"你可以帶一項物品上路：\")\n",
        "print(\"地圖(MAP)、手電筒(FLASH)、巧克力(CHOCOLATE)、繩子(ROPE)、或棒子（STICK):\")\n",
        "item = input(\"你選擇那個？ \")\n",
        "print(\"你聽到嗡嗡聲。\")\n",
        "choice1 = input(\"要尋找聲音的來源嗎？ 請輸入YES 或 NO: \")\n",
        "if choice1 == \"YES\":\n",
        "    print(\"你向聲音接近。\")\n",
        "    print(\"聲音突然停止。\")\n",
        "    print(\"你迷路了！...\")\n",
        "    print(\"你嘗試打電話，但沒有訊號！\")\n",
        "else:\n",
        "    print(\"好主意。你沒有冒險。\")\n",
        "    print(\"你開始走回起點。\")\n",
        "    print(\"你發你發現自己迷路了！\")\n",
        "    print(\"身後聲音越來越大，你開始驚慌！\")\n",
        "action = input(\"開始跑或停下來打電話？ 選擇RUN或CALL: \")\n",
        "if action == \"CALL\":\n",
        "    print(\"電話不通。\")\n",
        "    print(\"你拼命地快跑，而聲音越來越大。\") \n",
        "\n",
        "direction = input(\"你要往那個方向前進？ 北(NORTH)、南(SOUTH)、東(EAST)或西(WEST)： \")\n",
        "if direction == \"NORTH\":\n",
        "    print(\"你抵達廢棄小屋。\")\n",
        "    if item == \"MAP\":\n",
        "        print(\"你用地圖找到回家之路。\")\n",
        "        print(\"恭喜！你破關了。\")\n",
        "    else:\n",
        "        print(\"如果你有地圖，就能找到從這裡回家的路。\")\n",
        "        print(\"---你還在迷路！你輸了。---\")\n",
        "elif direction == \"SOUTH\":\n",
        "    print(\"你抵達有斷橋的河流。\")\n",
        "    if item == \"ROPE\" or item == \"STICK\":\n",
        "        print(\"你選了可以修好橋樑的物品。\")\n",
        "        print(\"你修好橋樑、過橋，並找到回家的路。\")\n",
        "        print(\"恭喜！你破關了。\")\n",
        "    else:\n",
        "        print(\"如果你有繩子或棒子，就能修好橋樑。\")\n",
        "        print(\"---你還是在迷路。你輸了。---\")\n",
        "elif direction == \"WEST\":\n",
        "    print(\"你走路時被傾倒的樹絆倒。\")\n",
        "    print(\"你腳受傷了。你坐下等待救援。\")\n",
        "    print(\"這可能要花很久時間。你還在迷路。\")\n",
        "    print(\"---你輸了。---\")\n",
        "else:\n",
        "    print(\"你抵達公路邊。很暗。\")\n",
        "    if item == \"FLASH\":\n",
        "        print(\"你用手電筒發出訊號。\")\n",
        "        print(\"一輛車停下來，載你回家。\")\n",
        "        print(\"恭喜你！你破關了，安全回到家。\")\n",
        "    else:\n",
        "        print(\"如果你有手電筒，就能發出求救訊號。\")\n",
        "        print(\"---你還是在迷路。你輸了---\")\n",
        "\n"
      ],
      "execution_count": null,
      "outputs": [
        {
          "output_type": "stream",
          "text": [
            "歡迎來到聖塔克魯茲山上冒險遊戲！\n",
            "********************************************\n",
            "你現在在加州聖塔克魯茲。\n",
            "你在傍晚一個人爬山。\n",
            "你可以帶一項物品上路：\n",
            "地圖(MAP)、手電筒(FLASH)、巧克力(CHOCOLATE)、繩子(ROPE)、或棒子（STICK):\n",
            "你選擇那個？ STICK\n",
            "你聽到嗡嗡聲。\n",
            "要尋找聲音的來源嗎？ 請輸入YES 或 NO: YES\n",
            "你向聲音接近。\n",
            "聲音突然停止。\n",
            "你迷路了！...\n",
            "你嘗試打電話，但沒有訊號！\n",
            "開始跑或停下來打電話？ 選擇RUN或CALL: RUN\n",
            "你要往那個方向前進？ 北(NORTH)、南(SOUTH)、東(EAST)或西(WEST)： EAST\n",
            "你抵達公路邊。很暗。\n",
            "如果你有手電筒，就能發出求救訊號。\n",
            "---你還是在迷路。你輸了---\n"
          ],
          "name": "stdout"
        }
      ]
    },
    {
      "cell_type": "code",
      "metadata": {
        "id": "p8PUhM3K88z7"
      },
      "source": [
        ""
      ],
      "execution_count": null,
      "outputs": []
    }
  ]
}